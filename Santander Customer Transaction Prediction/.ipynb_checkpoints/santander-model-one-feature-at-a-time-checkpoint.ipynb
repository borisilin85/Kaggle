{
 "cells": [
  {
   "cell_type": "code",
   "execution_count": 1,
   "metadata": {},
   "outputs": [],
   "source": [
    "import pandas as pd\n",
    "import numpy as np\n",
    "import lightgbm as lgb"
   ]
  },
  {
   "cell_type": "code",
   "execution_count": 2,
   "metadata": {},
   "outputs": [],
   "source": [
    "# Load data\n",
    "train_df = pd.read_csv('train.csv')\n",
    "test_df = pd.read_csv('test.csv')"
   ]
  },
  {
   "cell_type": "code",
   "execution_count": 3,
   "metadata": {},
   "outputs": [],
   "source": [
    "# Merge test/train datasets into a single one and separate unneeded columns\n",
    "target = train_df.pop('target')\n",
    "len_train = len(train_df)\n",
    "merged_df = pd.concat([train_df, test_df])\n",
    "#ID = merged_df.pop('ID_code')[len_train:]"
   ]
  },
  {
   "cell_type": "code",
   "execution_count": 4,
   "metadata": {},
   "outputs": [
    {
     "data": {
      "text/html": [
       "<div>\n",
       "<style scoped>\n",
       "    .dataframe tbody tr th:only-of-type {\n",
       "        vertical-align: middle;\n",
       "    }\n",
       "\n",
       "    .dataframe tbody tr th {\n",
       "        vertical-align: top;\n",
       "    }\n",
       "\n",
       "    .dataframe thead th {\n",
       "        text-align: right;\n",
       "    }\n",
       "</style>\n",
       "<table border=\"1\" class=\"dataframe\">\n",
       "  <thead>\n",
       "    <tr style=\"text-align: right;\">\n",
       "      <th></th>\n",
       "      <th>ID_code</th>\n",
       "      <th>var_0</th>\n",
       "      <th>var_1</th>\n",
       "      <th>var_2</th>\n",
       "      <th>var_3</th>\n",
       "      <th>var_4</th>\n",
       "      <th>var_5</th>\n",
       "      <th>var_6</th>\n",
       "      <th>var_7</th>\n",
       "      <th>var_8</th>\n",
       "      <th>...</th>\n",
       "      <th>var_190</th>\n",
       "      <th>var_191</th>\n",
       "      <th>var_192</th>\n",
       "      <th>var_193</th>\n",
       "      <th>var_194</th>\n",
       "      <th>var_195</th>\n",
       "      <th>var_196</th>\n",
       "      <th>var_197</th>\n",
       "      <th>var_198</th>\n",
       "      <th>var_199</th>\n",
       "    </tr>\n",
       "  </thead>\n",
       "  <tbody>\n",
       "    <tr>\n",
       "      <th>0</th>\n",
       "      <td>train_0</td>\n",
       "      <td>8.9255</td>\n",
       "      <td>-6.7863</td>\n",
       "      <td>11.9081</td>\n",
       "      <td>5.093</td>\n",
       "      <td>11.4607</td>\n",
       "      <td>-9.2834</td>\n",
       "      <td>5.1187</td>\n",
       "      <td>18.6266</td>\n",
       "      <td>-4.92</td>\n",
       "      <td>...</td>\n",
       "      <td>4.4354</td>\n",
       "      <td>3.9642</td>\n",
       "      <td>3.1364</td>\n",
       "      <td>1.691</td>\n",
       "      <td>18.5227</td>\n",
       "      <td>-2.3978</td>\n",
       "      <td>7.8784</td>\n",
       "      <td>8.5635</td>\n",
       "      <td>12.7803</td>\n",
       "      <td>-1.0914</td>\n",
       "    </tr>\n",
       "  </tbody>\n",
       "</table>\n",
       "<p>1 rows × 201 columns</p>\n",
       "</div>"
      ],
      "text/plain": [
       "   ID_code   var_0   var_1    var_2  var_3    var_4   var_5   var_6    var_7  \\\n",
       "0  train_0  8.9255 -6.7863  11.9081  5.093  11.4607 -9.2834  5.1187  18.6266   \n",
       "\n",
       "   var_8  ...  var_190  var_191  var_192  var_193  var_194  var_195  var_196  \\\n",
       "0  -4.92  ...   4.4354   3.9642   3.1364    1.691  18.5227  -2.3978   7.8784   \n",
       "\n",
       "   var_197  var_198  var_199  \n",
       "0   8.5635  12.7803  -1.0914  \n",
       "\n",
       "[1 rows x 201 columns]"
      ]
     },
     "execution_count": 4,
     "metadata": {},
     "output_type": "execute_result"
    }
   ],
   "source": [
    "merged_df.head(1)"
   ]
  },
  {
   "cell_type": "code",
   "execution_count": null,
   "metadata": {},
   "outputs": [],
   "source": [
    "# Use lightgbm for prediction\n",
    "# Assume all features are independent, so fit model to one feature at a time\n",
    "# Then final prediction is a product of all predictions based on a single feature\n",
    "# Since data contains only one feature, do not use CV - just used fixed number of iterations\n",
    "params = {\n",
    "    'task': 'train', 'max_depth': 1, 'boosting_type': 'gbdt',\n",
    "    'objective': 'binary', 'num_leaves': 3, 'learning_rate': 0.1,\n",
    "    'feature_fraction': 0.9, 'bagging_fraction': 0.8, 'bagging_freq': 5,\n",
    "    'lambda_l1': 1, 'lambda_l2': 60, 'verbose': -99\n",
    "}\n",
    "num_runs = merged_df.shape[1]\n",
    "sub_preds = np.zeros([num_runs, merged_df.shape[0]-len_train])\n",
    "for run in range(num_runs): # loop over all features\n",
    "    lgb_train = lgb.Dataset(merged_df.iloc[:len_train, run:run+1], target)\n",
    "    gbm = lgb.train(params, lgb_train, 45, verbose_eval=1000)\n",
    "    sub_preds[run, :] = gbm.predict(merged_df.iloc[len_train:, run:run+1], num_iteration=gbm.best_iteration)"
   ]
  },
  {
   "cell_type": "code",
   "execution_count": null,
   "metadata": {},
   "outputs": [],
   "source": [
    "# Scale prediction by inverse average target - to avoid very small numbers\n",
    "# Then multiply them for all features and write submission file\n",
    "sub_preds2 = (10 * sub_preds).prod(axis=0)\n",
    "out_df = pd.DataFrame({'ID_code': ID, 'target': sub_preds2.astype('float32')})\n",
    "out_df.to_csv('sub1f.csv', index=False)"
   ]
  }
 ],
 "metadata": {
  "kernelspec": {
   "display_name": "Python 3",
   "language": "python",
   "name": "python3"
  },
  "language_info": {
   "codemirror_mode": {
    "name": "ipython",
    "version": 3
   },
   "file_extension": ".py",
   "mimetype": "text/x-python",
   "name": "python",
   "nbconvert_exporter": "python",
   "pygments_lexer": "ipython3",
   "version": "3.7.2"
  }
 },
 "nbformat": 4,
 "nbformat_minor": 2
}
