{
 "cells": [
  {
   "cell_type": "markdown",
   "metadata": {
    "_uuid": "8846f3b662b6cee6b0b4250c60be525b779452ac"
   },
   "source": [
    "Big thanks to Jiwei Liu for Augment insight!\n",
    "https://www.kaggle.com/jiweiliu/lgb-2-leaves-augment\n"
   ]
  },
  {
   "cell_type": "code",
   "execution_count": 1,
   "metadata": {
    "_cell_guid": "b1076dfc-b9ad-4769-8c92-a6c4dae69d19",
    "_uuid": "8f2839f25d086af736a60e9eeb907d3b93b6e0e5"
   },
   "outputs": [],
   "source": [
    "import lightgbm as lgb\n",
    "import pandas as pd\n",
    "import numpy as np\n",
    "\n",
    "from datetime import datetime\n",
    "from pathlib import Path\n",
    "from sklearn.model_selection import StratifiedKFold\n",
    "from sklearn.model_selection import RepeatedStratifiedKFold"
   ]
  },
  {
   "cell_type": "code",
   "execution_count": 6,
   "metadata": {
    "_cell_guid": "79c7e3d0-c299-4dcb-8224-4455121ee9b0",
    "_uuid": "d629ff2d2480ee46fbb7e2d37f6b5fab8052498a"
   },
   "outputs": [],
   "source": [
    "train=pd.read_csv(\"train.csv\").drop(\"ID_code\",axis=1)\n",
    "test=pd.read_csv(\"test.csv\").drop(\"ID_code\",axis=1)"
   ]
  },
  {
   "cell_type": "code",
   "execution_count": 7,
   "metadata": {
    "_uuid": "30518f7d088ab7150c0e203a3d3b75b3016bec3e"
   },
   "outputs": [],
   "source": [
    "## Inspiration from\n",
    "#https://www.kaggle.com/jiweiliu/lgb-2-leaves-augment\n",
    "def augment(train,num_n=1,num_p=2):\n",
    "    newtrain=[train]\n",
    "    \n",
    "    n=train[train.target==0]\n",
    "    for i in range(num_n):\n",
    "        newtrain.append(n.apply(lambda x:x.values.take(np.random.permutation(len(n)))))\n",
    "    \n",
    "    for i in range(num_p):\n",
    "        p=train[train.target>0]\n",
    "        newtrain.append(p.apply(lambda x:x.values.take(np.random.permutation(len(p)))))\n",
    "    return pd.concat(newtrain)\n",
    "#df=oversample(train,2,1)"
   ]
  },
  {
   "cell_type": "code",
   "execution_count": 8,
   "metadata": {
    "_uuid": "ee57304897e67a222551bdeb2e5d53553441c927"
   },
   "outputs": [],
   "source": [
    "param = {\n",
    "   \"objective\" : \"binary\",\n",
    "    \"metric\" : \"auc\",\n",
    "    \"boosting\": 'gbdt',\n",
    "    \"max_depth\" : -1,\n",
    "    \"num_leaves\" : 13,\n",
    "    \"learning_rate\" : 0.01,\n",
    "    \"bagging_freq\": 5,\n",
    "    \"bagging_fraction\" : 0.4,\n",
    "    \"feature_fraction\" : 0.05,\n",
    "    \"min_data_in_leaf\": 80,\n",
    "    \"min_sum_heassian_in_leaf\": 10,\n",
    "    \"tree_learner\": \"serial\",\n",
    "    \"boost_from_average\": \"false\",\n",
    "    \"bagging_seed\" : 10,\n",
    "    \"verbosity\" : 1,\n",
    "}"
   ]
  },
  {
   "cell_type": "code",
   "execution_count": null,
   "metadata": {
    "_uuid": "03a3512407321cfab69aefa20c905a9fa2bb19c0"
   },
   "outputs": [
    {
     "name": "stdout",
     "output_type": "stream",
     "text": [
      "1\n",
      "Training until validation scores don't improve for 3000 rounds.\n"
     ]
    }
   ],
   "source": [
    "result=np.zeros(test.shape[0])\n",
    "\n",
    "rskf = RepeatedStratifiedKFold(n_splits=5, n_repeats=5,random_state=10)\n",
    "for counter,(train_index, valid_index) in enumerate(rskf.split(train, train.target),1):\n",
    "    print (counter)\n",
    "    \n",
    "    #Train data\n",
    "    t=train.iloc[train_index]\n",
    "    t=augment(t)\n",
    "    trn_data = lgb.Dataset(t.drop(\"target\",axis=1), label=t.target)\n",
    "    \n",
    "    #Validation data\n",
    "    v=train.iloc[valid_index]\n",
    "    val_data = lgb.Dataset(v.drop(\"target\",axis=1), label=v.target)\n",
    "    \n",
    "    #Training\n",
    "    model = lgb.train(param, trn_data, 1000000, valid_sets = [val_data], verbose_eval=500, early_stopping_rounds = 3000)\n",
    "    result +=model.predict(test)\n"
   ]
  },
  {
   "cell_type": "code",
   "execution_count": 6,
   "metadata": {
    "_uuid": "e1bedbd9e496492f2fcfc2e42c091d1ae94c9ea5"
   },
   "outputs": [],
   "source": [
    "submission = pd.read_csv(path/'sample_submission.csv')\n",
    "submission['target'] = result/counter\n",
    "filename=\"{:%Y-%m-%d_%H_%M}_sub.csv\".format(datetime.now())\n",
    "submission.to_csv(filename, index=False)"
   ]
  }
 ],
 "metadata": {
  "kernelspec": {
   "display_name": "Python 3",
   "language": "python",
   "name": "python3"
  },
  "language_info": {
   "codemirror_mode": {
    "name": "ipython",
    "version": 3
   },
   "file_extension": ".py",
   "mimetype": "text/x-python",
   "name": "python",
   "nbconvert_exporter": "python",
   "pygments_lexer": "ipython3",
   "version": "3.7.2"
  }
 },
 "nbformat": 4,
 "nbformat_minor": 1
}
